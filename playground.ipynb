{
 "cells": [
  {
   "cell_type": "markdown",
   "metadata": {},
   "source": [
    "# Start with differentiation of 1 and 7"
   ]
  },
  {
   "cell_type": "code",
   "execution_count": null,
   "metadata": {},
   "outputs": [
    {
     "name": "stdout",
     "output_type": "stream",
     "text": [
      "(1797, 64) float64\n",
      "(1797, 8, 8) float64\n",
      "(1797,) int32 [0 1 2 3 4 5 6 7 8 9 0 1 2 3 4 5 6 7 8 9]\n",
      "(10,) int32 [0 1 2 3 4 5 6 7 8 9]\n"
     ]
    }
   ],
   "source": [
    "import numpy as np\n",
    "import matplotlib.pyplot as plt\n",
    "%matplotlib notebook\n",
    "\n",
    "from IPython.display import display\n",
    "from sklearn import model_selection\n",
    "from sklearn.neighbors import KNeighborsClassifier\n",
    "from sklearn.datasets import load_digits\n",
    "\n",
    "# load data set\n",
    "digits = load_digits()\n",
    "\n",
    "digitData = digits[\"data\"]\n",
    "digitImages = digits[\"images\"]\n",
    "digitTarget = digits[\"target\"]\n",
    "digitTarget_names = digits[\"target_names\"]\n",
    "\n",
    "def printLoop( *targets ):\n",
    "    for target in target:\n",
    "        print(targets.shape, targets.dtype)\n",
    "\n",
    "\n",
    "printLoop(digitData)\n",
    "printLoop(digitImages)\n",
    "printLoop(digitTarget)\n",
    "print(digitTarget[:50])\n",
    "printLoop(digitTarget_names)\n",
    "print(digitTarget_names)"
   ]
  },
  {
   "cell_type": "markdown",
   "metadata": {},
   "source": [
    "## Split into ones and sevens"
   ]
  },
  {
   "cell_type": "code",
   "execution_count": 2,
   "metadata": {},
   "outputs": [
    {
     "data": {
      "text/plain": [
       "(361, 64)"
      ]
     },
     "execution_count": 2,
     "metadata": {},
     "output_type": "execute_result"
    }
   ],
   "source": [
    "onesIndexes = np.where(target==1) \n",
    "sevensIndexes = np.where(target==7) \n",
    "ones = data[onesIndexes,:] \n",
    "sevens = data[sevensIndexes,:]\n",
    "\n",
    "data_set = np.concatenate((ones,sevens),axis=1)[0,:,:] \n",
    "\n",
    "# target/label set\n",
    "target_ones = np.full(len(onesIndexes[0]), 1)\n",
    "target_sevens = np.full(len(sevensIndexes[0]), 7)\n",
    "target_set = np.concatenate((np.full(len(onesIndexes[0]), 1), np.full(len(sevensIndexes[0]), 7)))\n",
    "\n",
    "data_set.shape"
   ]
  },
  {
   "cell_type": "markdown",
   "metadata": {},
   "source": [
    "### For interest explore datasets:"
   ]
  },
  {
   "cell_type": "code",
   "execution_count": 4,
   "metadata": {},
   "outputs": [
    {
     "name": "stdout",
     "output_type": "stream",
     "text": [
      "(1, 182, 64) (1, 179, 64)\n",
      "(64,) (64,)\n",
      "19 10\n"
     ]
    },
    {
     "data": {
      "image/png": "[encoded data removed]",
      "text/plain": [
       "<matplotlib.figure.Figure at 0x153c8bbe6a0>"
      ]
     },
     "metadata": {},
     "output_type": "display_data"
    }
   ],
   "source": [
    "# Create average one/seven\n",
    "summed1 = np.sum(ones[0], axis=0)/len(onesIndexes[0])\n",
    "summed7 = np.sum(sevens[0], axis=0)/len(sevensIndexes[0])\n",
    "print(summed1.shape, summed7.shape)\n",
    "\n",
    "# For interest: difference between averages\n",
    "diff = summed1-summed7 \n",
    "\n",
    "#Returns indices of max/min value\n",
    "maxPx = np.argmax(diff) # Pixel index where one is brightest compared to seven\n",
    "minPx = np.argmin(diff) # Pixel index where seven is brightest compared to one\n",
    "\n",
    "summed1Img = np.reshape(summed1, (8,8))\n",
    "summed7Img = np.reshape(summed7, (8,8))\n",
    "diff_img = np.reshape(diff, (8,8))\n",
    "\n",
    "#Display average and negative images\n",
    "fig = plt.figure(figsize = (10,3))\n",
    "plt.gray()\n",
    "plt.subplot('131'); plt.axis('off')\n",
    "plt.imshow(summed1Img, interpolation = \"nearest\")\n",
    "plt.subplot('132'); plt.axis('off')\n",
    "plt.imshow(summed7Img, interpolation = \"nearest\")\n",
    "plt.subplot('133'); plt.axis('off')\n",
    "plt.imshow(diff_img, interpolation = \"nearest\")\n",
    "\n",
    "fig.tight_layout(); plt.show()\n",
    "\n",
    "#Indices of max/min value\n",
    "maxPx = np.argmax(diff) # \n",
    "minPx = np.argmin(diff) # \n",
    "print(\"Pixel index where one is brightest compared to seven: \" + str(maxPx))\n",
    "print( \"Pixel index where seven is brightest compared to one\" + str(minPx))\n",
    "print( \"Brightest pixel shows biggest difference, so most important indicator\" )"
   ]
  },
  {
   "cell_type": "markdown",
   "metadata": {},
   "source": [
    "### Creating training and test sets"
   ]
  },
  {
   "cell_type": "code",
   "execution_count": null,
   "metadata": {},
   "outputs": [],
   "source": [
    "# Create training and test sets\n",
    "X_train, X_test, y_train , y_test = model_selection.train_test_split(\n",
    "                                    data_set,\n",
    "                                    target_set,\n",
    "                                    test_size = 0.4, # corresponds to train/test = 3/2\n",
    "                                    random_state = 0)\n",
    "printLoop(X_train.shape)\n",
    "printLoop(X_test.shape)\n",
    "printLoop(y_train.shape)\n",
    "printLoop(y_test.shape)\n",
    "print(y_train[:50])"
   ]
  },
  {
   "cell_type": "markdown",
   "metadata": {},
   "source": [
    "#### Dimension reduction for a reduced training and feature space"
   ]
  },
  {
   "cell_type": "code",
   "execution_count": null,
   "metadata": {},
   "outputs": [],
   "source": [
    "# Reduces the data of each image to only two values:\n",
    "# Values for Pixel 10 & 19\n",
    "def reduced_dim(instances):\n",
    "    return np.array([instances[:,min_px], instances[:,max_px]]) #instaces.shape : (#instances, 64)\n",
    "\n",
    "# From now on: Treat only values of Pixel 10 & 19 as relevant for distinction between 1 and 7\n",
    "# -> reduce data/dim of data sets\n",
    "reduced_test = reduced_dim(X_test)\n",
    "reduced_train = reduced_dim(X_train)\n",
    "reduced_data = reduced_dim(data_set)\n",
    "print(reduced_train.shape, reduced_test.shape)"
   ]
  },
  {
   "cell_type": "code",
   "execution_count": null,
   "metadata": {},
   "outputs": [],
   "source": [
    "# Calculate mean values of px 10 & 19 of 1s and 7s\n",
    "# in order to display them in the scatter plot\n",
    "reduced_train = reduced_dim(X_train)\n",
    "\n",
    "ones_x_mean = np.mean(reduced_train[0,np.where(y_train==1)]) # Mean value for Pixel 10 of all 1s\n",
    "ones_y_mean = np.mean(reduced_train[1,np.where(y_train==1)]) # Mean value for Pixel 19 of all 1s\n",
    "sevens_x_mean = np.mean(reduced_train[0,np.where(y_train==7)]) # Mean value for Pixel 10 of all 7s\n",
    "sevens_y_mean = np.mean(reduced_train[1,np.where(y_train==7)]) # Mean value for Pixel 19 of all 7s"
   ]
  }
 ],
 "metadata": {
  "kernelspec": {
   "display_name": "Python 3.10.7 64-bit (microsoft store)",
   "language": "python",
   "name": "python3"
  },
  "language_info": {
   "codemirror_mode": {
    "name": "ipython",
    "version": 3
   },
   "file_extension": ".py",
   "mimetype": "text/x-python",
   "name": "python",
   "nbconvert_exporter": "python",
   "pygments_lexer": "ipython3",
   "version": "3.10.7"
  },
  "vscode": {
   "interpreter": {
    "hash": "65d83fbc74369fe211a5654164453b609745af5f71a6bbbdd0a76c88f78a7435"
   }
  }
 },
 "nbformat": 4,
 "nbformat_minor": 2
}
